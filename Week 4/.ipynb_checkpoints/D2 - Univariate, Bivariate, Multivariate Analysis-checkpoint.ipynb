{
 "cells": [
  {
   "cell_type": "markdown",
   "metadata": {
    "id": "xJgYxFoYGCkc"
   },
   "source": [
    "# Soal 1: Pemahaman Teori\n",
    "Jelaskan perbedaan antara Univariate, Bivariate dan Multivariate Analysis "
   ]
  },
  {
   "cell_type": "markdown",
   "metadata": {
    "id": "sc5mSRi5HHZH"
   },
   "source": [
    "Jawaban:"
   ]
  },
  {
   "cell_type": "markdown",
   "metadata": {
    "id": "xMUX-jzhLnBK"
   },
   "source": [
    "Univariate merupakan analisa yang dilakukan untuk satu variabel atau per variabel. Bivariate merupakan analisa yang digunakan untuk dua variabel serta untuk mengetahui korelasi antara kedua variabel tersebut. Sedangkan Multivariate digunakan untuk menganalisa lebih dari dua variabel di waktu yang sama."
   ]
  },
  {
   "cell_type": "code",
   "execution_count": 1,
   "metadata": {
    "id": "afFqa-fHLRtT"
   },
   "outputs": [],
   "source": [
    "import pandas as pd\n",
    "import matplotlib.pyplot as plt\n",
    "import numpy as np\n",
    "import seaborn as sns\n"
   ]
  },
  {
   "cell_type": "code",
   "execution_count": 2,
   "metadata": {
    "colab": {
     "base_uri": "https://localhost:8080/",
     "height": 419
    },
    "id": "faKxpSC7M-7P",
    "outputId": "c664cb2c-5a22-4e02-97cc-72e586591996"
   },
   "outputs": [
    {
     "data": {
      "text/html": [
       "<div>\n",
       "<style scoped>\n",
       "    .dataframe tbody tr th:only-of-type {\n",
       "        vertical-align: middle;\n",
       "    }\n",
       "\n",
       "    .dataframe tbody tr th {\n",
       "        vertical-align: top;\n",
       "    }\n",
       "\n",
       "    .dataframe thead th {\n",
       "        text-align: right;\n",
       "    }\n",
       "</style>\n",
       "<table border=\"1\" class=\"dataframe\">\n",
       "  <thead>\n",
       "    <tr style=\"text-align: right;\">\n",
       "      <th></th>\n",
       "      <th>species</th>\n",
       "      <th>island</th>\n",
       "      <th>bill_length_mm</th>\n",
       "      <th>bill_depth_mm</th>\n",
       "      <th>flipper_length_mm</th>\n",
       "      <th>body_mass_g</th>\n",
       "      <th>sex</th>\n",
       "    </tr>\n",
       "  </thead>\n",
       "  <tbody>\n",
       "    <tr>\n",
       "      <th>0</th>\n",
       "      <td>Adelie</td>\n",
       "      <td>Torgersen</td>\n",
       "      <td>39.1</td>\n",
       "      <td>18.7</td>\n",
       "      <td>181.0</td>\n",
       "      <td>3750.0</td>\n",
       "      <td>MALE</td>\n",
       "    </tr>\n",
       "    <tr>\n",
       "      <th>1</th>\n",
       "      <td>Adelie</td>\n",
       "      <td>Torgersen</td>\n",
       "      <td>39.5</td>\n",
       "      <td>17.4</td>\n",
       "      <td>186.0</td>\n",
       "      <td>3800.0</td>\n",
       "      <td>FEMALE</td>\n",
       "    </tr>\n",
       "    <tr>\n",
       "      <th>2</th>\n",
       "      <td>Adelie</td>\n",
       "      <td>Torgersen</td>\n",
       "      <td>40.3</td>\n",
       "      <td>18.0</td>\n",
       "      <td>195.0</td>\n",
       "      <td>3250.0</td>\n",
       "      <td>FEMALE</td>\n",
       "    </tr>\n",
       "    <tr>\n",
       "      <th>3</th>\n",
       "      <td>Adelie</td>\n",
       "      <td>Torgersen</td>\n",
       "      <td>NaN</td>\n",
       "      <td>NaN</td>\n",
       "      <td>NaN</td>\n",
       "      <td>NaN</td>\n",
       "      <td>NaN</td>\n",
       "    </tr>\n",
       "    <tr>\n",
       "      <th>4</th>\n",
       "      <td>Adelie</td>\n",
       "      <td>Torgersen</td>\n",
       "      <td>36.7</td>\n",
       "      <td>19.3</td>\n",
       "      <td>193.0</td>\n",
       "      <td>3450.0</td>\n",
       "      <td>FEMALE</td>\n",
       "    </tr>\n",
       "    <tr>\n",
       "      <th>...</th>\n",
       "      <td>...</td>\n",
       "      <td>...</td>\n",
       "      <td>...</td>\n",
       "      <td>...</td>\n",
       "      <td>...</td>\n",
       "      <td>...</td>\n",
       "      <td>...</td>\n",
       "    </tr>\n",
       "    <tr>\n",
       "      <th>339</th>\n",
       "      <td>Gentoo</td>\n",
       "      <td>Biscoe</td>\n",
       "      <td>NaN</td>\n",
       "      <td>NaN</td>\n",
       "      <td>NaN</td>\n",
       "      <td>NaN</td>\n",
       "      <td>NaN</td>\n",
       "    </tr>\n",
       "    <tr>\n",
       "      <th>340</th>\n",
       "      <td>Gentoo</td>\n",
       "      <td>Biscoe</td>\n",
       "      <td>46.8</td>\n",
       "      <td>14.3</td>\n",
       "      <td>215.0</td>\n",
       "      <td>4850.0</td>\n",
       "      <td>FEMALE</td>\n",
       "    </tr>\n",
       "    <tr>\n",
       "      <th>341</th>\n",
       "      <td>Gentoo</td>\n",
       "      <td>Biscoe</td>\n",
       "      <td>50.4</td>\n",
       "      <td>15.7</td>\n",
       "      <td>222.0</td>\n",
       "      <td>5750.0</td>\n",
       "      <td>MALE</td>\n",
       "    </tr>\n",
       "    <tr>\n",
       "      <th>342</th>\n",
       "      <td>Gentoo</td>\n",
       "      <td>Biscoe</td>\n",
       "      <td>45.2</td>\n",
       "      <td>14.8</td>\n",
       "      <td>212.0</td>\n",
       "      <td>5200.0</td>\n",
       "      <td>FEMALE</td>\n",
       "    </tr>\n",
       "    <tr>\n",
       "      <th>343</th>\n",
       "      <td>Gentoo</td>\n",
       "      <td>Biscoe</td>\n",
       "      <td>49.9</td>\n",
       "      <td>16.1</td>\n",
       "      <td>213.0</td>\n",
       "      <td>5400.0</td>\n",
       "      <td>MALE</td>\n",
       "    </tr>\n",
       "  </tbody>\n",
       "</table>\n",
       "<p>344 rows × 7 columns</p>\n",
       "</div>"
      ],
      "text/plain": [
       "    species     island  bill_length_mm  bill_depth_mm  flipper_length_mm  \\\n",
       "0    Adelie  Torgersen            39.1           18.7              181.0   \n",
       "1    Adelie  Torgersen            39.5           17.4              186.0   \n",
       "2    Adelie  Torgersen            40.3           18.0              195.0   \n",
       "3    Adelie  Torgersen             NaN            NaN                NaN   \n",
       "4    Adelie  Torgersen            36.7           19.3              193.0   \n",
       "..      ...        ...             ...            ...                ...   \n",
       "339  Gentoo     Biscoe             NaN            NaN                NaN   \n",
       "340  Gentoo     Biscoe            46.8           14.3              215.0   \n",
       "341  Gentoo     Biscoe            50.4           15.7              222.0   \n",
       "342  Gentoo     Biscoe            45.2           14.8              212.0   \n",
       "343  Gentoo     Biscoe            49.9           16.1              213.0   \n",
       "\n",
       "     body_mass_g     sex  \n",
       "0         3750.0    MALE  \n",
       "1         3800.0  FEMALE  \n",
       "2         3250.0  FEMALE  \n",
       "3            NaN     NaN  \n",
       "4         3450.0  FEMALE  \n",
       "..           ...     ...  \n",
       "339          NaN     NaN  \n",
       "340       4850.0  FEMALE  \n",
       "341       5750.0    MALE  \n",
       "342       5200.0  FEMALE  \n",
       "343       5400.0    MALE  \n",
       "\n",
       "[344 rows x 7 columns]"
      ]
     },
     "execution_count": 2,
     "metadata": {},
     "output_type": "execute_result"
    }
   ],
   "source": [
    "df = sns.load_dataset('D:/Kuliah/DS - SC/Dataset/penguins')\n",
    "df"
   ]
  },
  {
   "cell_type": "code",
   "execution_count": 3,
   "metadata": {
    "colab": {
     "base_uri": "https://localhost:8080/"
    },
    "id": "uXev0MBDxC3W",
    "outputId": "1a39bc90-c10e-4a23-eea3-70f1d8824800"
   },
   "outputs": [
    {
     "name": "stdout",
     "output_type": "stream",
     "text": [
      "<class 'pandas.core.frame.DataFrame'>\n",
      "RangeIndex: 344 entries, 0 to 343\n",
      "Data columns (total 7 columns):\n",
      " #   Column             Non-Null Count  Dtype  \n",
      "---  ------             --------------  -----  \n",
      " 0   species            344 non-null    object \n",
      " 1   island             344 non-null    object \n",
      " 2   bill_length_mm     342 non-null    float64\n",
      " 3   bill_depth_mm      342 non-null    float64\n",
      " 4   flipper_length_mm  342 non-null    float64\n",
      " 5   body_mass_g        342 non-null    float64\n",
      " 6   sex                333 non-null    object \n",
      "dtypes: float64(4), object(3)\n",
      "memory usage: 18.9+ KB\n"
     ]
    }
   ],
   "source": [
    "df.info()"
   ]
  },
  {
   "cell_type": "markdown",
   "metadata": {
    "id": "wzQF_UK47zsx"
   },
   "source": [
    "# Soal 2. Persiapan Data\n",
    "\n",
    "*   Hapus nilai missing dalam rows dataset menggunakan atribut.dropna()\n",
    "\n",
    "*   Lakukan grouping data berdasarkan kolom 'species' dengan menggunakan agregasi mean()\n",
    "\n"
   ]
  },
  {
   "cell_type": "code",
   "execution_count": 4,
   "metadata": {
    "id": "L1JzdrPe8NMM"
   },
   "outputs": [
    {
     "data": {
      "text/html": [
       "<div>\n",
       "<style scoped>\n",
       "    .dataframe tbody tr th:only-of-type {\n",
       "        vertical-align: middle;\n",
       "    }\n",
       "\n",
       "    .dataframe tbody tr th {\n",
       "        vertical-align: top;\n",
       "    }\n",
       "\n",
       "    .dataframe thead th {\n",
       "        text-align: right;\n",
       "    }\n",
       "</style>\n",
       "<table border=\"1\" class=\"dataframe\">\n",
       "  <thead>\n",
       "    <tr style=\"text-align: right;\">\n",
       "      <th></th>\n",
       "      <th>bill_length_mm</th>\n",
       "      <th>bill_depth_mm</th>\n",
       "      <th>flipper_length_mm</th>\n",
       "      <th>body_mass_g</th>\n",
       "    </tr>\n",
       "    <tr>\n",
       "      <th>species</th>\n",
       "      <th></th>\n",
       "      <th></th>\n",
       "      <th></th>\n",
       "      <th></th>\n",
       "    </tr>\n",
       "  </thead>\n",
       "  <tbody>\n",
       "    <tr>\n",
       "      <th>Adelie</th>\n",
       "      <td>38.823973</td>\n",
       "      <td>18.347260</td>\n",
       "      <td>190.102740</td>\n",
       "      <td>3706.164384</td>\n",
       "    </tr>\n",
       "    <tr>\n",
       "      <th>Chinstrap</th>\n",
       "      <td>48.833824</td>\n",
       "      <td>18.420588</td>\n",
       "      <td>195.823529</td>\n",
       "      <td>3733.088235</td>\n",
       "    </tr>\n",
       "    <tr>\n",
       "      <th>Gentoo</th>\n",
       "      <td>47.568067</td>\n",
       "      <td>14.996639</td>\n",
       "      <td>217.235294</td>\n",
       "      <td>5092.436975</td>\n",
       "    </tr>\n",
       "  </tbody>\n",
       "</table>\n",
       "</div>"
      ],
      "text/plain": [
       "           bill_length_mm  bill_depth_mm  flipper_length_mm  body_mass_g\n",
       "species                                                                 \n",
       "Adelie          38.823973      18.347260         190.102740  3706.164384\n",
       "Chinstrap       48.833824      18.420588         195.823529  3733.088235\n",
       "Gentoo          47.568067      14.996639         217.235294  5092.436975"
      ]
     },
     "execution_count": 4,
     "metadata": {},
     "output_type": "execute_result"
    }
   ],
   "source": [
    "#code here\n",
    "df = df.dropna()\n",
    "data = df.groupby('species').mean()\n",
    "data"
   ]
  },
  {
   "cell_type": "markdown",
   "metadata": {
    "id": "mrBahIKa8MGA"
   },
   "source": [
    "Expected output:\n",
    "\n",
    "![tanpa handling missing value](https://drive.google.com/uc?id=1OnuXmscVRqduqT_TYI1vB291rpXM4D_1)"
   ]
  },
  {
   "cell_type": "markdown",
   "metadata": {
    "id": "Gm3gZZ8EqMmL"
   },
   "source": [
    "\n",
    "# Soal 3. Univariate Analysis\n",
    "Buatlah sebuah analisa univariate dengan menggunakan perintah seperti berikut:\n",
    "\n",
    "*   Buatlah sebuah Pie plot dari dataset hasil grouping untuk kolom flipper_length_mm seperti expected output berikut:\n",
    "*   Buatlah sebuah plot histogram dari dataset awal (sebelum grouping) untuk kolom body_mass_g\n",
    "*   Jelaskan insight yang diperoleh dari ke dua grafik tersebut.\n",
    "\n",
    "\n",
    "\n"
   ]
  },
  {
   "cell_type": "code",
   "execution_count": 5,
   "metadata": {
    "executionInfo": {
     "elapsed": 1021,
     "status": "ok",
     "timestamp": 1617891453405,
     "user": {
      "displayName": "Afrida hafizhatul Ulum",
      "photoUrl": "https://lh3.googleusercontent.com/a-/AOh14GhlS_9Q6i4q4ai8Ae6HYz-8Ub9PE3QIsxfVPf8tEQ=s64",
      "userId": "06287560445691811212"
     },
     "user_tz": -420
    },
    "id": "WzTwDVXIrlFR"
   },
   "outputs": [
    {
     "data": {
      "image/png": "[encoded data removed]",
      "text/plain": [
       "<Figure size 576x576 with 1 Axes>"
      ]
     },
     "metadata": {},
     "output_type": "display_data"
    }
   ],
   "source": [
    "#code here\n",
    "fig, ax = plt.subplots(figsize=(8,8))\n",
    "x = data['flipper_length_mm']\n",
    "plt.pie(x, labels=data.index, autopct='%1.1f%%')\n",
    "\n",
    "plt.show()"
   ]
  },
  {
   "cell_type": "code",
   "execution_count": 6,
   "metadata": {},
   "outputs": [
    {
     "data": {
      "image/png": "[encoded data removed]",
      "text/plain": [
       "<Figure size 720x576 with 1 Axes>"
      ]
     },
     "metadata": {
      "needs_background": "light"
     },
     "output_type": "display_data"
    }
   ],
   "source": [
    "fig, ax = plt.subplots(figsize=(10,8))\n",
    "plt.hist(df['body_mass_g'])\n",
    "ax.set_xlabel('Body_mass_g')\n",
    "ax.set_ylabel('Count')\n",
    "plt.show()"
   ]
  },
  {
   "cell_type": "markdown",
   "metadata": {
    "id": "0SzrvA6zr7Pk"
   },
   "source": [
    "Expected Output:\n",
    "\n",
    "\n",
    "Pie Chart\n",
    "\n",
    "![](https://drive.google.com/uc?id=11H6X7xpEeodPWD56tHBhV4sLrJ-6B-Bd)\n",
    "\n",
    "Histogram\n",
    "\n",
    "![](https://drive.google.com/uc?id=1A_twS7BbQhkGvUz7zAWgye7q3ZRTQkhi)"
   ]
  },
  {
   "cell_type": "markdown",
   "metadata": {
    "id": "VG3C1RQUrmwf"
   },
   "source": [
    "Analisa:\n",
    "\n",
    "Dengan menggunakan pie chart dan histogram dapat digunakan untuk analisa univariate karena dari kedua grafik tersebut dapat langsung menampilkan nilai atau frekuensi dari variabel. Pada pie chart dapat dilihat bahwa spesies Gentoo meimiliki rata-rata panjang sirip yang paling tinggi. Kemudian pada pada histogram pada massa tubuh sekitar 3500 memiliki frekuensi yang paling tinggi."
   ]
  },
  {
   "cell_type": "markdown",
   "metadata": {
    "id": "M6skmR4nrozT"
   },
   "source": [
    "\n",
    "\n",
    "---\n",
    "\n",
    "\n",
    "\n",
    "---\n",
    "\n",
    "\n",
    "\n",
    "---\n",
    "\n"
   ]
  },
  {
   "cell_type": "markdown",
   "metadata": {
    "id": "xhLbLJB6r1sN"
   },
   "source": [
    "# Soal 4. Bivariate Analysis\n",
    "\n",
    "\n",
    "\n",
    "*   Buatlah sebuah grafik catplot menggunakan seaborn dengan x='sex', y='bill_length_mm' dan kind 'bar' seperti expected output di bawah\n",
    "*   Buatlah sebuah grafik scatter plot menggunakan seaborn dengan x='body_mass_g', y='flipper_length_mm', hue='bill_length_mm' seperti expected dibawah\n",
    "*   Jelaskan insight yang diperoleh dari hasil analisa bivariate tersebut\n",
    "\n",
    "\n",
    "\n",
    "\n"
   ]
  },
  {
   "cell_type": "code",
   "execution_count": 7,
   "metadata": {
    "id": "bYIAe13ZEzMd"
   },
   "outputs": [
    {
     "data": {
      "image/png": "[encoded data removed]",
      "text/plain": [
       "<Figure size 360x360 with 1 Axes>"
      ]
     },
     "metadata": {},
     "output_type": "display_data"
    }
   ],
   "source": [
    "#code here\n",
    "with sns.axes_style(style='white'):\n",
    "    g = sns.catplot(x='sex', y='bill_length_mm', data=df, kind='bar', palette='tab10')"
   ]
  },
  {
   "cell_type": "code",
   "execution_count": 8,
   "metadata": {},
   "outputs": [
    {
     "data": {
      "image/png": "[encoded data removed]",
      "text/plain": [
       "<Figure size 432x288 with 1 Axes>"
      ]
     },
     "metadata": {},
     "output_type": "display_data"
    }
   ],
   "source": [
    "with sns.axes_style(style='white'):\n",
    "    sns.scatterplot(x='body_mass_g', y='flipper_length_mm', hue='bill_length_mm', data=df)"
   ]
  },
  {
   "cell_type": "markdown",
   "metadata": {
    "id": "jzXdUP3WE1Hd"
   },
   "source": [
    "Expected Output:\n",
    "\n",
    "Catplot\n",
    "\n",
    "![](https://drive.google.com/uc?id=1imCbGD9cWqXUjd33tAh6D0OH20vVpWea)\n",
    "\n",
    "Scatter plot\n",
    "\n",
    "![](https://drive.google.com/uc?id=1_k734IpRYq6Q1wF57hwzSEjnVd2Sii2Z)"
   ]
  },
  {
   "cell_type": "markdown",
   "metadata": {
    "id": "DfloDSjTE4bf"
   },
   "source": [
    "Analisa:"
   ]
  },
  {
   "cell_type": "markdown",
   "metadata": {
    "id": "cYnJmQmoE54t"
   },
   "source": [
    "Analisa bivariate dapat menggunakan bar plot dan scatter plot untuk mengetahui hubungan antara 2 variabel. Pada bar plot dapat diketahui bahwa jenis kelamin laki-laki memilki panjang paruh yang lebih panjang daripada perempuan. Pada scatter plot dapat diketahui hubungan antara massa tubuh dan panjang sirip. Semakin berat massa tubuhnya maka akan semakin panjang pula siripnya."
   ]
  },
  {
   "cell_type": "markdown",
   "metadata": {
    "id": "mtkuGOESE8Wq"
   },
   "source": [
    "# Soal 5. Multivariate Analisis\n",
    "\n",
    "*   Dengan menggunakan seaborn, buatlah sebuah pairplot keseluruhan data feature pada dataset (df) dengan argumen kind='bar', seperti expected di bawah:\n",
    "*   Jelaskan hasil analisa dari multivariate yang dihasilkan\n",
    "\n"
   ]
  },
  {
   "cell_type": "code",
   "execution_count": null,
   "metadata": {
    "id": "-zMOF9TDFpLQ"
   },
   "outputs": [],
   "source": [
    "#code here\n",
    "sns.pairplot(df)\n",
    "plt.show()"
   ]
  },
  {
   "cell_type": "markdown",
   "metadata": {
    "id": "vP1loh-DFrCz"
   },
   "source": [
    "Expected output:\n",
    "\n",
    "Pair plot\n",
    "\n",
    "![](https://drive.google.com/uc?id=1td8WAZLJEW5BPTq-wEJyZ4soRNNLXfqX)"
   ]
  },
  {
   "cell_type": "markdown",
   "metadata": {
    "id": "ELQnuHl0FuC2"
   },
   "source": [
    "Analisa:"
   ]
  },
  {
   "cell_type": "markdown",
   "metadata": {
    "id": "aXcGd1siFvgi"
   },
   "source": [
    "kita dapat melakukan analisa multivariate dengan menggunakan pair plot karena kita dapat membandingkan banyak variabel dalam satu waktu. Seperti pada pair plot di atas terdapat 4 variabel yang bisa kita bandingkan secara langsung. "
   ]
  }
 ],
 "metadata": {
  "colab": {
   "collapsed_sections": [],
   "name": "Tugas_2_Pekan_4(EDA).ipynb",
   "provenance": []
  },
  "kernelspec": {
   "display_name": "Python 3 (ipykernel)",
   "language": "python",
   "name": "python3"
  },
  "language_info": {
   "codemirror_mode": {
    "name": "ipython",
    "version": 3
   },
   "file_extension": ".py",
   "mimetype": "text/x-python",
   "name": "python",
   "nbconvert_exporter": "python",
   "pygments_lexer": "ipython3",
   "version": "3.9.7"
  }
 },
 "nbformat": 4,
 "nbformat_minor": 4
}
