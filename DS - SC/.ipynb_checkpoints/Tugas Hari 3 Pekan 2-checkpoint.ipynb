{
 "cells": [
  {
   "cell_type": "code",
   "execution_count": 1,
   "metadata": {
    "colab": {
     "base_uri": "https://localhost:8080/",
     "height": 425
    },
    "id": "F_3_cdHcQrN4",
    "outputId": "6c8c2174-1814-42d5-c86f-0cf320b8ceae"
   },
   "outputs": [
    {
     "data": {
      "text/html": [
       "<div>\n",
       "<style scoped>\n",
       "    .dataframe tbody tr th:only-of-type {\n",
       "        vertical-align: middle;\n",
       "    }\n",
       "\n",
       "    .dataframe tbody tr th {\n",
       "        vertical-align: top;\n",
       "    }\n",
       "\n",
       "    .dataframe thead th {\n",
       "        text-align: right;\n",
       "    }\n",
       "</style>\n",
       "<table border=\"1\" class=\"dataframe\">\n",
       "  <thead>\n",
       "    <tr style=\"text-align: right;\">\n",
       "      <th></th>\n",
       "      <th>Tipe Ujian</th>\n",
       "      <th>Mata Pelajaran</th>\n",
       "      <th>Rata2 Waktu Belajar (menit)</th>\n",
       "      <th>Rata2 Nilai Ujian</th>\n",
       "    </tr>\n",
       "  </thead>\n",
       "  <tbody>\n",
       "    <tr>\n",
       "      <th>0</th>\n",
       "      <td>UTS1</td>\n",
       "      <td>Fisika</td>\n",
       "      <td>737</td>\n",
       "      <td>64</td>\n",
       "    </tr>\n",
       "    <tr>\n",
       "      <th>1</th>\n",
       "      <td>UAS1</td>\n",
       "      <td>Fisika</td>\n",
       "      <td>741</td>\n",
       "      <td>43</td>\n",
       "    </tr>\n",
       "    <tr>\n",
       "      <th>2</th>\n",
       "      <td>UTS2</td>\n",
       "      <td>Fisika</td>\n",
       "      <td>242</td>\n",
       "      <td>88</td>\n",
       "    </tr>\n",
       "    <tr>\n",
       "      <th>3</th>\n",
       "      <td>UAS2</td>\n",
       "      <td>Fisika</td>\n",
       "      <td>689</td>\n",
       "      <td>50</td>\n",
       "    </tr>\n",
       "    <tr>\n",
       "      <th>4</th>\n",
       "      <td>UTS1</td>\n",
       "      <td>Matematika</td>\n",
       "      <td>267</td>\n",
       "      <td>60</td>\n",
       "    </tr>\n",
       "    <tr>\n",
       "      <th>5</th>\n",
       "      <td>UAS1</td>\n",
       "      <td>Matematika</td>\n",
       "      <td>701</td>\n",
       "      <td>62</td>\n",
       "    </tr>\n",
       "    <tr>\n",
       "      <th>6</th>\n",
       "      <td>UTS2</td>\n",
       "      <td>Matematika</td>\n",
       "      <td>761</td>\n",
       "      <td>59</td>\n",
       "    </tr>\n",
       "    <tr>\n",
       "      <th>7</th>\n",
       "      <td>UAS2</td>\n",
       "      <td>Matematika</td>\n",
       "      <td>284</td>\n",
       "      <td>51</td>\n",
       "    </tr>\n",
       "    <tr>\n",
       "      <th>8</th>\n",
       "      <td>UTS1</td>\n",
       "      <td>Statistika</td>\n",
       "      <td>703</td>\n",
       "      <td>49</td>\n",
       "    </tr>\n",
       "    <tr>\n",
       "      <th>9</th>\n",
       "      <td>UAS1</td>\n",
       "      <td>Statistika</td>\n",
       "      <td>390</td>\n",
       "      <td>99</td>\n",
       "    </tr>\n",
       "    <tr>\n",
       "      <th>10</th>\n",
       "      <td>UTS2</td>\n",
       "      <td>Statistika</td>\n",
       "      <td>524</td>\n",
       "      <td>84</td>\n",
       "    </tr>\n",
       "    <tr>\n",
       "      <th>11</th>\n",
       "      <td>UAS2</td>\n",
       "      <td>Statistika</td>\n",
       "      <td>344</td>\n",
       "      <td>49</td>\n",
       "    </tr>\n",
       "  </tbody>\n",
       "</table>\n",
       "</div>"
      ],
      "text/plain": [
       "   Tipe Ujian Mata Pelajaran  Rata2 Waktu Belajar (menit)  Rata2 Nilai Ujian\n",
       "0        UTS1         Fisika                          737                 64\n",
       "1        UAS1         Fisika                          741                 43\n",
       "2        UTS2         Fisika                          242                 88\n",
       "3        UAS2         Fisika                          689                 50\n",
       "4        UTS1     Matematika                          267                 60\n",
       "5        UAS1     Matematika                          701                 62\n",
       "6        UTS2     Matematika                          761                 59\n",
       "7        UAS2     Matematika                          284                 51\n",
       "8        UTS1     Statistika                          703                 49\n",
       "9        UAS1     Statistika                          390                 99\n",
       "10       UTS2     Statistika                          524                 84\n",
       "11       UAS2     Statistika                          344                 49"
      ]
     },
     "execution_count": 1,
     "metadata": {},
     "output_type": "execute_result"
    }
   ],
   "source": [
    "import pandas as pd\n",
    "import random\n",
    "\n",
    "data = {\n",
    "    'Tipe Ujian' : ['UTS1', 'UAS1', 'UTS2', 'UAS2']*3,\n",
    "    'Mata Pelajaran' : ['Fisika']*4 + ['Matematika']*4+['Statistika']*4,\n",
    "    'Rata2 Waktu Belajar (menit)' : [random.choice(range(200, 800)) for i in range(12)],\n",
    "    'Rata2 Nilai Ujian' : [random.choice(range(40, 100)) for i in range(12)] \n",
    "}\n",
    "\n",
    "df = pd.DataFrame(data)\n",
    "df"
   ]
  },
  {
   "cell_type": "markdown",
   "metadata": {
    "id": "egOsOe_wkfDg"
   },
   "source": [
    "\n",
    "\n",
    "---\n",
    "\n",
    "\n",
    "\n",
    "---\n",
    "\n"
   ]
  },
  {
   "cell_type": "markdown",
   "metadata": {
    "id": "oF1KVGaMQrv8"
   },
   "source": [
    "## Soal 1. Data Cleaning\n",
    "\n",
    "Lakukan sorting data berdasarkan Rata2 nilai ujian dari terbesar ke terkecil\n",
    "\n",
    "*   Lakukan sorting data berdasarkan Rata2 nilai ujian dari terbesar ke terkecil\n",
    "*   Tipe Ujian dan Mata pelajaran apakah yang memiliki rata2 nilai terkecil?\n",
    "\n",
    "\n",
    "\n",
    "\n"
   ]
  },
  {
   "cell_type": "code",
   "execution_count": 2,
   "metadata": {
    "id": "72VAtmNwkhHS"
   },
   "outputs": [
    {
     "name": "stdout",
     "output_type": "stream",
     "text": [
      "   Tipe Ujian Mata Pelajaran  Rata2 Waktu Belajar (menit)  Rata2 Nilai Ujian\n",
      "9        UAS1     Statistika                          390                 99\n",
      "2        UTS2         Fisika                          242                 88\n",
      "10       UTS2     Statistika                          524                 84\n",
      "0        UTS1         Fisika                          737                 64\n",
      "5        UAS1     Matematika                          701                 62\n",
      "4        UTS1     Matematika                          267                 60\n",
      "6        UTS2     Matematika                          761                 59\n",
      "7        UAS2     Matematika                          284                 51\n",
      "3        UAS2         Fisika                          689                 50\n",
      "8        UTS1     Statistika                          703                 49\n",
      "11       UAS2     Statistika                          344                 49\n",
      "1        UAS1         Fisika                          741                 43 \n",
      "\n",
      "  Tipe Ujian Mata Pelajaran  Rata2 Waktu Belajar (menit)  Rata2 Nilai Ujian\n",
      "1       UAS1         Fisika                          741                 43\n"
     ]
    }
   ],
   "source": [
    "#code here\n",
    "print(df.sort_values(\"Rata2 Nilai Ujian\", ascending = False), \"\\n\")\n",
    "print(df.sort_values(\"Rata2 Nilai Ujian\", ascending = False).tail(1))\n"
   ]
  },
  {
   "cell_type": "markdown",
   "metadata": {
    "id": "DJO0iCoQknFz"
   },
   "source": [
    "Expected output:\n",
    "\n",
    "(Output bisa berbeda-beda)\n",
    "\n",
    "![alt text](https://drive.google.com/uc?id=1iv8P-LDdN3WpTVX9qST3kL7QSNSDiOc2)"
   ]
  },
  {
   "cell_type": "markdown",
   "metadata": {
    "id": "0kQhZ-5bKrxR"
   },
   "source": [
    "<h2>Soal 2: Data Restructuring</h2>\n",
    "\n",
    "Jelaskan itu pivoting dan melting data"
   ]
  },
  {
   "cell_type": "markdown",
   "metadata": {
    "id": "Qz8iLqpalMa-"
   },
   "source": [
    "Pivoting digunakan untuk merubah data yang berada pada posisi baris menjadi kolom sedangkatn melting data digunakan untuk merubah data yang berada pada posisi kolom menjadi baris"
   ]
  },
  {
   "cell_type": "markdown",
   "metadata": {
    "id": "09wQwmHnmFXq"
   },
   "source": [
    "\n",
    "\n",
    "---\n",
    "\n",
    "\n",
    "\n",
    "---\n",
    "\n"
   ]
  },
  {
   "cell_type": "markdown",
   "metadata": {
    "id": "Vxig2IeYKrxj"
   },
   "source": [
    "<h2>Soal 3: Reshaping Data 1</h2>"
   ]
  },
  {
   "cell_type": "code",
   "execution_count": 3,
   "metadata": {
    "colab": {
     "base_uri": "https://localhost:8080/",
     "height": 425
    },
    "id": "4Jp7bLWNKrxl",
    "outputId": "a8ca1f5d-bcd1-4279-f835-cc00c6d6d2a4"
   },
   "outputs": [
    {
     "data": {
      "text/html": [
       "<div>\n",
       "<style scoped>\n",
       "    .dataframe tbody tr th:only-of-type {\n",
       "        vertical-align: middle;\n",
       "    }\n",
       "\n",
       "    .dataframe tbody tr th {\n",
       "        vertical-align: top;\n",
       "    }\n",
       "\n",
       "    .dataframe thead th {\n",
       "        text-align: right;\n",
       "    }\n",
       "</style>\n",
       "<table border=\"1\" class=\"dataframe\">\n",
       "  <thead>\n",
       "    <tr style=\"text-align: right;\">\n",
       "      <th></th>\n",
       "      <th>Tipe Ujian</th>\n",
       "      <th>Mata Pelajaran</th>\n",
       "      <th>Rata2 Waktu Belajar (menit)</th>\n",
       "      <th>Rata2 Nilai Ujian</th>\n",
       "    </tr>\n",
       "  </thead>\n",
       "  <tbody>\n",
       "    <tr>\n",
       "      <th>0</th>\n",
       "      <td>UTS1</td>\n",
       "      <td>Fisika</td>\n",
       "      <td>436</td>\n",
       "      <td>62</td>\n",
       "    </tr>\n",
       "    <tr>\n",
       "      <th>1</th>\n",
       "      <td>UAS1</td>\n",
       "      <td>Fisika</td>\n",
       "      <td>662</td>\n",
       "      <td>89</td>\n",
       "    </tr>\n",
       "    <tr>\n",
       "      <th>2</th>\n",
       "      <td>UTS2</td>\n",
       "      <td>Fisika</td>\n",
       "      <td>502</td>\n",
       "      <td>83</td>\n",
       "    </tr>\n",
       "    <tr>\n",
       "      <th>3</th>\n",
       "      <td>UAS2</td>\n",
       "      <td>Fisika</td>\n",
       "      <td>318</td>\n",
       "      <td>51</td>\n",
       "    </tr>\n",
       "    <tr>\n",
       "      <th>4</th>\n",
       "      <td>UTS1</td>\n",
       "      <td>Matematika</td>\n",
       "      <td>410</td>\n",
       "      <td>64</td>\n",
       "    </tr>\n",
       "    <tr>\n",
       "      <th>5</th>\n",
       "      <td>UAS1</td>\n",
       "      <td>Matematika</td>\n",
       "      <td>238</td>\n",
       "      <td>46</td>\n",
       "    </tr>\n",
       "    <tr>\n",
       "      <th>6</th>\n",
       "      <td>UTS2</td>\n",
       "      <td>Matematika</td>\n",
       "      <td>682</td>\n",
       "      <td>88</td>\n",
       "    </tr>\n",
       "    <tr>\n",
       "      <th>7</th>\n",
       "      <td>UAS2</td>\n",
       "      <td>Matematika</td>\n",
       "      <td>560</td>\n",
       "      <td>61</td>\n",
       "    </tr>\n",
       "    <tr>\n",
       "      <th>8</th>\n",
       "      <td>UTS1</td>\n",
       "      <td>Statistika</td>\n",
       "      <td>280</td>\n",
       "      <td>85</td>\n",
       "    </tr>\n",
       "    <tr>\n",
       "      <th>9</th>\n",
       "      <td>UAS1</td>\n",
       "      <td>Statistika</td>\n",
       "      <td>674</td>\n",
       "      <td>85</td>\n",
       "    </tr>\n",
       "    <tr>\n",
       "      <th>10</th>\n",
       "      <td>UTS2</td>\n",
       "      <td>Statistika</td>\n",
       "      <td>393</td>\n",
       "      <td>94</td>\n",
       "    </tr>\n",
       "    <tr>\n",
       "      <th>11</th>\n",
       "      <td>UAS2</td>\n",
       "      <td>Statistika</td>\n",
       "      <td>276</td>\n",
       "      <td>95</td>\n",
       "    </tr>\n",
       "  </tbody>\n",
       "</table>\n",
       "</div>"
      ],
      "text/plain": [
       "   Tipe Ujian Mata Pelajaran  Rata2 Waktu Belajar (menit)  Rata2 Nilai Ujian\n",
       "0        UTS1         Fisika                          436                 62\n",
       "1        UAS1         Fisika                          662                 89\n",
       "2        UTS2         Fisika                          502                 83\n",
       "3        UAS2         Fisika                          318                 51\n",
       "4        UTS1     Matematika                          410                 64\n",
       "5        UAS1     Matematika                          238                 46\n",
       "6        UTS2     Matematika                          682                 88\n",
       "7        UAS2     Matematika                          560                 61\n",
       "8        UTS1     Statistika                          280                 85\n",
       "9        UAS1     Statistika                          674                 85\n",
       "10       UTS2     Statistika                          393                 94\n",
       "11       UAS2     Statistika                          276                 95"
      ]
     },
     "execution_count": 3,
     "metadata": {},
     "output_type": "execute_result"
    }
   ],
   "source": [
    "import pandas as pd\n",
    "import random\n",
    "\n",
    "data = {\n",
    "    'Tipe Ujian' : ['UTS1', 'UAS1', 'UTS2', 'UAS2']*3,\n",
    "    'Mata Pelajaran' : ['Fisika']*4 + ['Matematika']*4+['Statistika']*4,\n",
    "    'Rata2 Waktu Belajar (menit)' : [random.choice(range(200, 800)) for i in range(12)],\n",
    "    'Rata2 Nilai Ujian' : [random.choice(range(40, 100)) for i in range(12)] \n",
    "}\n",
    "\n",
    "df = pd.DataFrame(data)\n",
    "df"
   ]
  },
  {
   "cell_type": "markdown",
   "metadata": {
    "id": "G3yKJFwTKrx8"
   },
   "source": [
    "Perhatikan data di atas, kemudian ubahlah bentuknya agar sesuai yang di harapkan."
   ]
  },
  {
   "cell_type": "code",
   "execution_count": 4,
   "metadata": {
    "id": "9bpRB-RrlQ7b"
   },
   "outputs": [
    {
     "data": {
      "text/html": [
       "<div>\n",
       "<style scoped>\n",
       "    .dataframe tbody tr th:only-of-type {\n",
       "        vertical-align: middle;\n",
       "    }\n",
       "\n",
       "    .dataframe tbody tr th {\n",
       "        vertical-align: top;\n",
       "    }\n",
       "\n",
       "    .dataframe thead tr th {\n",
       "        text-align: left;\n",
       "    }\n",
       "\n",
       "    .dataframe thead tr:last-of-type th {\n",
       "        text-align: right;\n",
       "    }\n",
       "</style>\n",
       "<table border=\"1\" class=\"dataframe\">\n",
       "  <thead>\n",
       "    <tr>\n",
       "      <th></th>\n",
       "      <th colspan=\"3\" halign=\"left\">Rata2 Nilai Ujian</th>\n",
       "      <th colspan=\"3\" halign=\"left\">Rata2 Waktu Belajar (menit)</th>\n",
       "    </tr>\n",
       "    <tr>\n",
       "      <th>Mata Pelajaran</th>\n",
       "      <th>Fisika</th>\n",
       "      <th>Matematika</th>\n",
       "      <th>Statistika</th>\n",
       "      <th>Fisika</th>\n",
       "      <th>Matematika</th>\n",
       "      <th>Statistika</th>\n",
       "    </tr>\n",
       "    <tr>\n",
       "      <th>Tipe Ujian</th>\n",
       "      <th></th>\n",
       "      <th></th>\n",
       "      <th></th>\n",
       "      <th></th>\n",
       "      <th></th>\n",
       "      <th></th>\n",
       "    </tr>\n",
       "  </thead>\n",
       "  <tbody>\n",
       "    <tr>\n",
       "      <th>UAS1</th>\n",
       "      <td>89</td>\n",
       "      <td>46</td>\n",
       "      <td>85</td>\n",
       "      <td>662</td>\n",
       "      <td>238</td>\n",
       "      <td>674</td>\n",
       "    </tr>\n",
       "    <tr>\n",
       "      <th>UAS2</th>\n",
       "      <td>51</td>\n",
       "      <td>61</td>\n",
       "      <td>95</td>\n",
       "      <td>318</td>\n",
       "      <td>560</td>\n",
       "      <td>276</td>\n",
       "    </tr>\n",
       "    <tr>\n",
       "      <th>UTS1</th>\n",
       "      <td>62</td>\n",
       "      <td>64</td>\n",
       "      <td>85</td>\n",
       "      <td>436</td>\n",
       "      <td>410</td>\n",
       "      <td>280</td>\n",
       "    </tr>\n",
       "    <tr>\n",
       "      <th>UTS2</th>\n",
       "      <td>83</td>\n",
       "      <td>88</td>\n",
       "      <td>94</td>\n",
       "      <td>502</td>\n",
       "      <td>682</td>\n",
       "      <td>393</td>\n",
       "    </tr>\n",
       "  </tbody>\n",
       "</table>\n",
       "</div>"
      ],
      "text/plain": [
       "               Rata2 Nilai Ujian                        \\\n",
       "Mata Pelajaran            Fisika Matematika Statistika   \n",
       "Tipe Ujian                                               \n",
       "UAS1                          89         46         85   \n",
       "UAS2                          51         61         95   \n",
       "UTS1                          62         64         85   \n",
       "UTS2                          83         88         94   \n",
       "\n",
       "               Rata2 Waktu Belajar (menit)                        \n",
       "Mata Pelajaran                      Fisika Matematika Statistika  \n",
       "Tipe Ujian                                                        \n",
       "UAS1                                   662        238        674  \n",
       "UAS2                                   318        560        276  \n",
       "UTS1                                   436        410        280  \n",
       "UTS2                                   502        682        393  "
      ]
     },
     "execution_count": 4,
     "metadata": {},
     "output_type": "execute_result"
    }
   ],
   "source": [
    "#code here\n",
    "df.pivot(index = \"Tipe Ujian\", columns = \"Mata Pelajaran\", values = [\"Rata2 Nilai Ujian\", \"Rata2 Waktu Belajar (menit)\"])"
   ]
  },
  {
   "cell_type": "markdown",
   "metadata": {
    "id": "xA8ZlQErKryO"
   },
   "source": [
    "Expected Result:\n",
    "\n",
    "(Output bisa berbeda-beda)\n",
    "\n",
    "![alt text](https://drive.google.com/uc?id=1XufsfqZe7-XZLsb92SpATexy-QRZE0ow)"
   ]
  },
  {
   "cell_type": "markdown",
   "metadata": {
    "id": "V6eTRMxumClB"
   },
   "source": [
    "\n",
    "\n",
    "---\n",
    "\n",
    "\n",
    "\n",
    "---\n",
    "\n"
   ]
  },
  {
   "cell_type": "markdown",
   "metadata": {
    "id": "pXb8LRDWKryQ"
   },
   "source": [
    "<h2>Soal 4: Reshaping Data 2</h2>"
   ]
  },
  {
   "cell_type": "code",
   "execution_count": 5,
   "metadata": {
    "colab": {
     "base_uri": "https://localhost:8080/",
     "height": 143
    },
    "id": "LHe2XZyNKryS",
    "outputId": "4386a973-7623-4efb-bcea-dce7286036d1"
   },
   "outputs": [
    {
     "data": {
      "text/html": [
       "<div>\n",
       "<style scoped>\n",
       "    .dataframe tbody tr th:only-of-type {\n",
       "        vertical-align: middle;\n",
       "    }\n",
       "\n",
       "    .dataframe tbody tr th {\n",
       "        vertical-align: top;\n",
       "    }\n",
       "\n",
       "    .dataframe thead th {\n",
       "        text-align: right;\n",
       "    }\n",
       "</style>\n",
       "<table border=\"1\" class=\"dataframe\">\n",
       "  <thead>\n",
       "    <tr style=\"text-align: right;\">\n",
       "      <th></th>\n",
       "      <th>Kebun Binatang</th>\n",
       "      <th>Dufan</th>\n",
       "      <th>Disney</th>\n",
       "      <th>Bali</th>\n",
       "    </tr>\n",
       "    <tr>\n",
       "      <th>Hari</th>\n",
       "      <th></th>\n",
       "      <th></th>\n",
       "      <th></th>\n",
       "      <th></th>\n",
       "    </tr>\n",
       "  </thead>\n",
       "  <tbody>\n",
       "    <tr>\n",
       "      <th>Sabtu</th>\n",
       "      <td>271</td>\n",
       "      <td>501</td>\n",
       "      <td>1000</td>\n",
       "      <td>900</td>\n",
       "    </tr>\n",
       "    <tr>\n",
       "      <th>Minggu</th>\n",
       "      <td>399</td>\n",
       "      <td>700</td>\n",
       "      <td>1001</td>\n",
       "      <td>803</td>\n",
       "    </tr>\n",
       "  </tbody>\n",
       "</table>\n",
       "</div>"
      ],
      "text/plain": [
       "        Kebun Binatang  Dufan  Disney  Bali\n",
       "Hari                                       \n",
       "Sabtu              271    501    1000   900\n",
       "Minggu             399    700    1001   803"
      ]
     },
     "execution_count": 5,
     "metadata": {},
     "output_type": "execute_result"
    }
   ],
   "source": [
    "import pandas as pd\n",
    "\n",
    "data1 = {\n",
    "    'Hari' : ['Sabtu', 'Minggu'],\n",
    "    'Kebun Binatang' : [271, 399],\n",
    "    'Dufan' : [501, 700],\n",
    "    'Disney' : [1000, 1001],\n",
    "    'Bali' : [900, 803]\n",
    "}\n",
    "df1 = pd.DataFrame(data1).set_index('Hari')\n",
    "df1"
   ]
  },
  {
   "cell_type": "markdown",
   "metadata": {
    "id": "w87S4Xl_Kryg"
   },
   "source": [
    "diatas adalah data tentang jumlah pengunjung di berbagai tempat hiburan, ubahlah struktur data tersebut sehingga sesuai dengan hasil yang diharapkan."
   ]
  },
  {
   "cell_type": "code",
   "execution_count": 6,
   "metadata": {
    "id": "LWhJnmTclZmj"
   },
   "outputs": [
    {
     "data": {
      "text/html": [
       "<div>\n",
       "<style scoped>\n",
       "    .dataframe tbody tr th:only-of-type {\n",
       "        vertical-align: middle;\n",
       "    }\n",
       "\n",
       "    .dataframe tbody tr th {\n",
       "        vertical-align: top;\n",
       "    }\n",
       "\n",
       "    .dataframe thead th {\n",
       "        text-align: right;\n",
       "    }\n",
       "</style>\n",
       "<table border=\"1\" class=\"dataframe\">\n",
       "  <thead>\n",
       "    <tr style=\"text-align: right;\">\n",
       "      <th></th>\n",
       "      <th>Hari</th>\n",
       "      <th>Tempat Hiburan</th>\n",
       "      <th>Pengunjung</th>\n",
       "    </tr>\n",
       "  </thead>\n",
       "  <tbody>\n",
       "    <tr>\n",
       "      <th>0</th>\n",
       "      <td>Sabtu</td>\n",
       "      <td>Kebun Binatang</td>\n",
       "      <td>271</td>\n",
       "    </tr>\n",
       "    <tr>\n",
       "      <th>1</th>\n",
       "      <td>Minggu</td>\n",
       "      <td>Kebun Binatang</td>\n",
       "      <td>399</td>\n",
       "    </tr>\n",
       "    <tr>\n",
       "      <th>2</th>\n",
       "      <td>Sabtu</td>\n",
       "      <td>Dufan</td>\n",
       "      <td>501</td>\n",
       "    </tr>\n",
       "    <tr>\n",
       "      <th>3</th>\n",
       "      <td>Minggu</td>\n",
       "      <td>Dufan</td>\n",
       "      <td>700</td>\n",
       "    </tr>\n",
       "    <tr>\n",
       "      <th>4</th>\n",
       "      <td>Sabtu</td>\n",
       "      <td>Disney</td>\n",
       "      <td>1000</td>\n",
       "    </tr>\n",
       "    <tr>\n",
       "      <th>5</th>\n",
       "      <td>Minggu</td>\n",
       "      <td>Disney</td>\n",
       "      <td>1001</td>\n",
       "    </tr>\n",
       "    <tr>\n",
       "      <th>6</th>\n",
       "      <td>Sabtu</td>\n",
       "      <td>Bali</td>\n",
       "      <td>900</td>\n",
       "    </tr>\n",
       "    <tr>\n",
       "      <th>7</th>\n",
       "      <td>Minggu</td>\n",
       "      <td>Bali</td>\n",
       "      <td>803</td>\n",
       "    </tr>\n",
       "  </tbody>\n",
       "</table>\n",
       "</div>"
      ],
      "text/plain": [
       "     Hari  Tempat Hiburan  Pengunjung\n",
       "0   Sabtu  Kebun Binatang         271\n",
       "1  Minggu  Kebun Binatang         399\n",
       "2   Sabtu           Dufan         501\n",
       "3  Minggu           Dufan         700\n",
       "4   Sabtu          Disney        1000\n",
       "5  Minggu          Disney        1001\n",
       "6   Sabtu            Bali         900\n",
       "7  Minggu            Bali         803"
      ]
     },
     "execution_count": 6,
     "metadata": {},
     "output_type": "execute_result"
    }
   ],
   "source": [
    "#code here\n",
    "df1 = df1.reset_index()\n",
    "df1.melt(id_vars = ['Hari'], value_vars = [\"Kebun Binatang\", \"Dufan\", \"Disney\", \"Bali\"], \n",
    "         var_name = \"Tempat Hiburan\", value_name = \"Pengunjung\")"
   ]
  },
  {
   "cell_type": "markdown",
   "metadata": {
    "id": "d7_5dDsRKryi"
   },
   "source": [
    "Expected Result:\n",
    "\n",
    "(Output bisa berbeda-beda)\n",
    "\n",
    "![alt text](https://drive.google.com/uc?id=159mIqcyfeD30EEcyZmmkovORa6cZDLtn)"
   ]
  },
  {
   "cell_type": "markdown",
   "metadata": {
    "id": "gIj28fRmmAKd"
   },
   "source": [
    "\n",
    "\n",
    "---\n",
    "\n",
    "\n",
    "\n",
    "---\n",
    "\n"
   ]
  },
  {
   "cell_type": "markdown",
   "metadata": {
    "id": "GGHgeYkEKryk"
   },
   "source": [
    "<h2>Soal 5: Data Enrichment</h2>\n",
    "\n",
    "Lakukan binning data menggunakan qcut sehingga sesuai hasil yang diharapkan"
   ]
  },
  {
   "cell_type": "code",
   "execution_count": 7,
   "metadata": {
    "id": "hlKoN9GyllvC"
   },
   "outputs": [
    {
     "data": {
      "text/html": [
       "<div>\n",
       "<style scoped>\n",
       "    .dataframe tbody tr th:only-of-type {\n",
       "        vertical-align: middle;\n",
       "    }\n",
       "\n",
       "    .dataframe tbody tr th {\n",
       "        vertical-align: top;\n",
       "    }\n",
       "\n",
       "    .dataframe thead th {\n",
       "        text-align: right;\n",
       "    }\n",
       "</style>\n",
       "<table border=\"1\" class=\"dataframe\">\n",
       "  <thead>\n",
       "    <tr style=\"text-align: right;\">\n",
       "      <th></th>\n",
       "      <th>Tipe Ujian</th>\n",
       "      <th>Mata Pelajaran</th>\n",
       "      <th>Rata2 Waktu Belajar (menit)</th>\n",
       "      <th>Rata2 Nilai Ujian</th>\n",
       "      <th>Keterangan Kelulusan</th>\n",
       "    </tr>\n",
       "  </thead>\n",
       "  <tbody>\n",
       "    <tr>\n",
       "      <th>0</th>\n",
       "      <td>UTS1</td>\n",
       "      <td>Fisika</td>\n",
       "      <td>436</td>\n",
       "      <td>62</td>\n",
       "      <td>Tidak Lulus</td>\n",
       "    </tr>\n",
       "    <tr>\n",
       "      <th>1</th>\n",
       "      <td>UAS1</td>\n",
       "      <td>Fisika</td>\n",
       "      <td>662</td>\n",
       "      <td>89</td>\n",
       "      <td>Lulus</td>\n",
       "    </tr>\n",
       "    <tr>\n",
       "      <th>2</th>\n",
       "      <td>UTS2</td>\n",
       "      <td>Fisika</td>\n",
       "      <td>502</td>\n",
       "      <td>83</td>\n",
       "      <td>Remedial</td>\n",
       "    </tr>\n",
       "    <tr>\n",
       "      <th>3</th>\n",
       "      <td>UAS2</td>\n",
       "      <td>Fisika</td>\n",
       "      <td>318</td>\n",
       "      <td>51</td>\n",
       "      <td>Tidak Lulus</td>\n",
       "    </tr>\n",
       "    <tr>\n",
       "      <th>4</th>\n",
       "      <td>UTS1</td>\n",
       "      <td>Matematika</td>\n",
       "      <td>410</td>\n",
       "      <td>64</td>\n",
       "      <td>Remedial</td>\n",
       "    </tr>\n",
       "    <tr>\n",
       "      <th>5</th>\n",
       "      <td>UAS1</td>\n",
       "      <td>Matematika</td>\n",
       "      <td>238</td>\n",
       "      <td>46</td>\n",
       "      <td>Tidak Lulus</td>\n",
       "    </tr>\n",
       "    <tr>\n",
       "      <th>6</th>\n",
       "      <td>UTS2</td>\n",
       "      <td>Matematika</td>\n",
       "      <td>682</td>\n",
       "      <td>88</td>\n",
       "      <td>Lulus</td>\n",
       "    </tr>\n",
       "    <tr>\n",
       "      <th>7</th>\n",
       "      <td>UAS2</td>\n",
       "      <td>Matematika</td>\n",
       "      <td>560</td>\n",
       "      <td>61</td>\n",
       "      <td>Tidak Lulus</td>\n",
       "    </tr>\n",
       "    <tr>\n",
       "      <th>8</th>\n",
       "      <td>UTS1</td>\n",
       "      <td>Statistika</td>\n",
       "      <td>280</td>\n",
       "      <td>85</td>\n",
       "      <td>Remedial</td>\n",
       "    </tr>\n",
       "    <tr>\n",
       "      <th>9</th>\n",
       "      <td>UAS1</td>\n",
       "      <td>Statistika</td>\n",
       "      <td>674</td>\n",
       "      <td>85</td>\n",
       "      <td>Remedial</td>\n",
       "    </tr>\n",
       "    <tr>\n",
       "      <th>10</th>\n",
       "      <td>UTS2</td>\n",
       "      <td>Statistika</td>\n",
       "      <td>393</td>\n",
       "      <td>94</td>\n",
       "      <td>Lulus</td>\n",
       "    </tr>\n",
       "    <tr>\n",
       "      <th>11</th>\n",
       "      <td>UAS2</td>\n",
       "      <td>Statistika</td>\n",
       "      <td>276</td>\n",
       "      <td>95</td>\n",
       "      <td>Lulus</td>\n",
       "    </tr>\n",
       "  </tbody>\n",
       "</table>\n",
       "</div>"
      ],
      "text/plain": [
       "   Tipe Ujian Mata Pelajaran  Rata2 Waktu Belajar (menit)  Rata2 Nilai Ujian  \\\n",
       "0        UTS1         Fisika                          436                 62   \n",
       "1        UAS1         Fisika                          662                 89   \n",
       "2        UTS2         Fisika                          502                 83   \n",
       "3        UAS2         Fisika                          318                 51   \n",
       "4        UTS1     Matematika                          410                 64   \n",
       "5        UAS1     Matematika                          238                 46   \n",
       "6        UTS2     Matematika                          682                 88   \n",
       "7        UAS2     Matematika                          560                 61   \n",
       "8        UTS1     Statistika                          280                 85   \n",
       "9        UAS1     Statistika                          674                 85   \n",
       "10       UTS2     Statistika                          393                 94   \n",
       "11       UAS2     Statistika                          276                 95   \n",
       "\n",
       "   Keterangan Kelulusan  \n",
       "0           Tidak Lulus  \n",
       "1                 Lulus  \n",
       "2              Remedial  \n",
       "3           Tidak Lulus  \n",
       "4              Remedial  \n",
       "5           Tidak Lulus  \n",
       "6                 Lulus  \n",
       "7           Tidak Lulus  \n",
       "8              Remedial  \n",
       "9              Remedial  \n",
       "10                Lulus  \n",
       "11                Lulus  "
      ]
     },
     "execution_count": 7,
     "metadata": {},
     "output_type": "execute_result"
    }
   ],
   "source": [
    "#code here\n",
    "df = pd.DataFrame(data)\n",
    "ket = [\"Tidak Lulus\", \"Remedial\", \"Lulus\"]\n",
    "df[\"Keterangan Kelulusan\"] = pd.qcut(df[\"Rata2 Nilai Ujian\"], q=3, labels=ket)\n",
    "\n",
    "df"
   ]
  },
  {
   "cell_type": "markdown",
   "metadata": {
    "id": "1xO-ji8mlqZd"
   },
   "source": [
    "Expected Output:\n",
    "\n",
    "(Output bisa berbeda-beda)\n",
    "\n",
    "![alt text](https://drive.google.com/uc?id=1h2_u5_xhD1_QtPpItTj-o3lljHhnr4XS)"
   ]
  },
  {
   "cell_type": "markdown",
   "metadata": {
    "id": "z0zn0Xa0l8s_"
   },
   "source": [
    "\n",
    "\n",
    "---\n",
    "\n",
    "\n",
    "\n",
    "---\n",
    "\n"
   ]
  }
 ],
 "metadata": {
  "colab": {
   "collapsed_sections": [],
   "name": "Tugas Hari 3 Pekan 2.ipynb",
   "provenance": []
  },
  "interpreter": {
   "hash": "7d9b6e80cea27199fc4267d3efa1041b1712d6425fd4c6b383ef95f27d8bde1d"
  },
  "kernelspec": {
   "display_name": "Python 3 (ipykernel)",
   "language": "python",
   "name": "python3"
  },
  "language_info": {
   "codemirror_mode": {
    "name": "ipython",
    "version": 3
   },
   "file_extension": ".py",
   "mimetype": "text/x-python",
   "name": "python",
   "nbconvert_exporter": "python",
   "pygments_lexer": "ipython3",
   "version": "3.9.7"
  }
 },
 "nbformat": 4,
 "nbformat_minor": 1
}
