{
 "cells": [
  {
   "cell_type": "code",
   "execution_count": 4,
   "id": "e371f7a7",
   "metadata": {},
   "outputs": [
    {
     "name": "stdout",
     "output_type": "stream",
     "text": [
      "two adalah 5\n",
      "three adalah 3\n",
      "four adalah 2\n",
      "satu adalah 1\n",
      "{'two': 5, 'three': 3, 'four': 2, 'satu': 1}\n"
     ]
    }
   ],
   "source": [
    "numbers = {'one':1, 'two':2, 'three':3}\n",
    "numbers['four'] = 2\n",
    "numbers.update({'two':5})\n",
    "numbers['satu'] = numbers.pop('one')\n",
    "for k in numbers:\n",
    "    print(\"{} adalah {}\".format(k, numbers[k]))\n",
    "print(numbers)"
   ]
  },
  {
   "cell_type": "code",
   "execution_count": 26,
   "id": "841653a8",
   "metadata": {},
   "outputs": [
    {
     "name": "stdout",
     "output_type": "stream",
     "text": [
      "[['ayah ucup', 19, 'ucup', 19, 'ibu ucup', 20], ['istri boy', 20, 'anak boy', 18, 'istri kedua boy', 21], True]\n"
     ]
    }
   ],
   "source": [
    "suhu_keluarga_ucup = ['ayah ucup', 19, 'ucup', 19, 'ibu ucup', 20]\n",
    "\n",
    "suhu_keluarga_boy = ['istri boy', 20, 'anak boy', 18, 'istri kedua boy', 21]\n",
    "\n",
    "# membuat list dalam list dan dicampur dengan data boolean\n",
    "\n",
    "suhu_keluarga = [suhu_keluarga_ucup, suhu_keluarga_boy, True]\n",
    "print(suhu_keluarga)"
   ]
  },
  {
   "cell_type": "code",
   "execution_count": 32,
   "id": "65960e6e",
   "metadata": {},
   "outputs": [
    {
     "name": "stdout",
     "output_type": "stream",
     "text": [
      "satu\n"
     ]
    }
   ],
   "source": [
    "tuple1 = (\"satu\", 4)\n",
    "print(tuple1[-2])"
   ]
  },
  {
   "cell_type": "code",
   "execution_count": 5,
   "id": "41038499",
   "metadata": {},
   "outputs": [
    {
     "name": "stdout",
     "output_type": "stream",
     "text": [
      "{1, 3, 5, 'ibu', 'anak'}\n"
     ]
    }
   ],
   "source": [
    "set1 = {'ibu',1,3,5,'anak'}\n",
    "print(set1)"
   ]
  },
  {
   "cell_type": "code",
   "execution_count": 8,
   "id": "0612fcc5",
   "metadata": {},
   "outputs": [
    {
     "name": "stdout",
     "output_type": "stream",
     "text": [
      "madrid\n",
      "paris\n",
      "berlin\n",
      "oslo\n",
      "jakarta\n"
     ]
    }
   ],
   "source": [
    "country = { \n",
    "           'spain': { 'capital':'madrid', 'population':46.77 },\n",
    "           'france': { 'capital':'paris', 'population':66.03 },\n",
    "           'germany': { 'capital':'berlin', 'population':80.62 },\n",
    "           'norway': { 'capital':'oslo', 'population':5.084 },\n",
    "           'indonesia' : {'capital':'jakarta', 'population':250}\n",
    "         }\n",
    "\n",
    "for key, value in country.items():\n",
    "    print(value['capital'])\n",
    "#     print('Ibukota '+....+' adalah ' + ....)"
   ]
  },
  {
   "cell_type": "code",
   "execution_count": 36,
   "id": "b15a937b",
   "metadata": {},
   "outputs": [
    {
     "name": "stdout",
     "output_type": "stream",
     "text": [
      "<class 'set'>\n"
     ]
    },
    {
     "ename": "TypeError",
     "evalue": "'set' object is not subscriptable",
     "output_type": "error",
     "traceback": [
      "\u001b[1;31m---------------------------------------------------------------------------\u001b[0m",
      "\u001b[1;31mTypeError\u001b[0m                                 Traceback (most recent call last)",
      "\u001b[1;32mC:\\Users\\Public\\Documents\\Wondershare\\CreatorTemp/ipykernel_5156/2271950838.py\u001b[0m in \u001b[0;36m<module>\u001b[1;34m\u001b[0m\n\u001b[0;32m      4\u001b[0m \u001b[0ma\u001b[0m\u001b[1;33m=\u001b[0m\u001b[0mset_3\u001b[0m \u001b[1;33m&\u001b[0m \u001b[0mset_2\u001b[0m\u001b[1;33m\u001b[0m\u001b[1;33m\u001b[0m\u001b[0m\n\u001b[0;32m      5\u001b[0m \u001b[0mprint\u001b[0m\u001b[1;33m(\u001b[0m\u001b[0mtype\u001b[0m\u001b[1;33m(\u001b[0m\u001b[0ma\u001b[0m\u001b[1;33m)\u001b[0m\u001b[1;33m)\u001b[0m\u001b[1;33m\u001b[0m\u001b[1;33m\u001b[0m\u001b[0m\n\u001b[1;32m----> 6\u001b[1;33m \u001b[0mprint\u001b[0m\u001b[1;33m(\u001b[0m\u001b[0ma\u001b[0m\u001b[1;33m[\u001b[0m\u001b[1;36m1\u001b[0m\u001b[1;33m]\u001b[0m\u001b[1;33m)\u001b[0m\u001b[1;33m\u001b[0m\u001b[1;33m\u001b[0m\u001b[0m\n\u001b[0m\u001b[0;32m      7\u001b[0m \u001b[0mprint\u001b[0m\u001b[1;33m(\u001b[0m\u001b[0ma\u001b[0m\u001b[1;33m)\u001b[0m\u001b[1;33m\u001b[0m\u001b[1;33m\u001b[0m\u001b[0m\n\u001b[0;32m      8\u001b[0m \u001b[0mprint\u001b[0m\u001b[1;33m(\u001b[0m\u001b[0msorted\u001b[0m\u001b[1;33m(\u001b[0m\u001b[0mset_2\u001b[0m \u001b[1;33m^\u001b[0m \u001b[0mset_3\u001b[0m\u001b[1;33m)\u001b[0m\u001b[1;33m)\u001b[0m\u001b[1;33m\u001b[0m\u001b[1;33m\u001b[0m\u001b[0m\n",
      "\u001b[1;31mTypeError\u001b[0m: 'set' object is not subscriptable"
     ]
    }
   ],
   "source": [
    "set_2 = {6, 10, 8, 25, 13}\n",
    "set_3 = {6, 8, 9, 10, 24}\n",
    "\n",
    "a=set_3 & set_2\n",
    "print(type(a))\n",
    "print(a[1])\n",
    "print(a)\n",
    "print(sorted(set_2 ^ set_3))"
   ]
  },
  {
   "cell_type": "code",
   "execution_count": 41,
   "id": "23e980ae",
   "metadata": {},
   "outputs": [
    {
     "name": "stdout",
     "output_type": "stream",
     "text": [
      "None\n",
      "['a', 'b', 'c', 'd']\n",
      "None\n",
      "['a', 'b', 'c', 'd', 'b']\n",
      "['b', 'c', 'd', 'b']\n"
     ]
    }
   ],
   "source": [
    "list1 = ['a','b','c']\n",
    "list2 = [4,5,6,7,8]\n",
    "print(list1.append('d'))\n",
    "print(list1)\n",
    "print(list1.extend('b'))\n",
    "print(list1)\n",
    "del list1[0:1]\n",
    "print(list1)"
   ]
  }
 ],
 "metadata": {
  "kernelspec": {
   "display_name": "Python 3 (ipykernel)",
   "language": "python",
   "name": "python3"
  },
  "language_info": {
   "codemirror_mode": {
    "name": "ipython",
    "version": 3
   },
   "file_extension": ".py",
   "mimetype": "text/x-python",
   "name": "python",
   "nbconvert_exporter": "python",
   "pygments_lexer": "ipython3",
   "version": "3.9.7"
  }
 },
 "nbformat": 4,
 "nbformat_minor": 5
}
